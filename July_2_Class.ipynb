{
  "nbformat": 4,
  "nbformat_minor": 0,
  "metadata": {
    "colab": {
      "provenance": [],
      "include_colab_link": true
    },
    "kernelspec": {
      "name": "python3",
      "display_name": "Python 3"
    }
  },
  "cells": [
    {
      "cell_type": "markdown",
      "metadata": {
        "id": "view-in-github",
        "colab_type": "text"
      },
      "source": [
        "<a href=\"https://colab.research.google.com/github/parth05loya/Coding-Classes-with-Parth/blob/master/July_2_Class.ipynb\" target=\"_parent\"><img src=\"https://colab.research.google.com/assets/colab-badge.svg\" alt=\"Open In Colab\"/></a>"
      ]
    },
    {
      "cell_type": "markdown",
      "metadata": {
        "id": "rvi7ZhCmTb_O"
      },
      "source": [
        "ACTIVITY 1: SHAPESHIFTERS\n",
        "\n",
        "One day, you and your friends decide to go to the park and watch the clouds. You want to keep track of the different clouds you see and what shapes they look like to each of you, so you both create empty lists (in brackets[ ]) before you begin."
      ]
    },
    {
      "cell_type": "code",
      "metadata": {
        "id": "DOiogSBLUjAB"
      },
      "source": [
        "your_cloud_shapes = []\n",
        "friend_cloud_shapes = []"
      ],
      "execution_count": null,
      "outputs": []
    },
    {
      "cell_type": "markdown",
      "metadata": {
        "id": "_nC5-C9LUtlK"
      },
      "source": [
        "While watching, you continue to add the shapes of clouds you see to your lists. Once you go home, you take a look at each other's lists:"
      ]
    },
    {
      "cell_type": "code",
      "metadata": {
        "id": "8Kz-dcW4UvES"
      },
      "source": [
        "your_cloud_shapes = ['circle', 'turtle', 'dolphin', 'truck', 'apple', 'spoon']\n",
        "friend_cloud_shapes = ['apple', 'turtle', 'spoon', 'truck', 'circle', 'dolphin']"
      ],
      "execution_count": null,
      "outputs": []
    },
    {
      "cell_type": "markdown",
      "metadata": {
        "id": "VSev1K1oVWSH"
      },
      "source": [
        "What To Do:\n",
        "\n",
        "Using if statements, the == operator, and indices, write some code to check if your cloud shapes matches your friend's cloud shape with your friend's object at each index. If your shapes match at the same position, print out \"We saw the same shape!\" If they don't match, print out \"We saw different shapes at this time.\" Go one by one, and compare each item in your list.\n",
        "\n",
        "Helpful Hints\n",
        "\n",
        "Remember, you can access specific items in lists using the indices! Example:**your_list[2]**"
      ]
    },
    {
      "cell_type": "code",
      "metadata": {
        "id": "zsFO8G2Fh8TN"
      },
      "source": [],
      "execution_count": null,
      "outputs": []
    },
    {
      "cell_type": "markdown",
      "source": [
        " ACTIVITY 2: FAVOURITE DESERTS"
      ],
      "metadata": {
        "id": "4DoAbzFVQs0n"
      }
    },
    {
      "cell_type": "code",
      "source": [
        "name = ['Jack', 'Mario', 'Peach', 'Daisy', 'Neha']\n",
        "desert = ['Star Pudding', 'Peach Pie', 'Cookie', 'Honey Cake', 'Popsicles']"
      ],
      "metadata": {
        "id": "Xf6ldzcJQ7al"
      },
      "execution_count": null,
      "outputs": []
    },
    {
      "cell_type": "markdown",
      "source": [
        "Print each person' name and their favourite desert"
      ],
      "metadata": {
        "id": "b5bEAALeRL6u"
      }
    },
    {
      "cell_type": "code",
      "source": [
        "Example: \"Hi, my name is Jack and my favourite desert is Star Pudding\""
      ],
      "metadata": {
        "id": "3wH0jGGLRTBY"
      },
      "execution_count": null,
      "outputs": []
    },
    {
      "cell_type": "markdown",
      "source": [
        "ACITIVITY 3: GROCERY SHOPPING\n",
        "\n",
        "Suppose you are helping your parent with grocery shopping. They have a list of items and you need to count them how many are fruit, how many are vegetable and how many are packed foods."
      ],
      "metadata": {
        "id": "wegGYFmQS01m"
      }
    },
    {
      "cell_type": "code",
      "source": [
        "grocery_list = ['fruit', 'packed food', 'fruit', 'vegetable', 'fruit', 'vegetable', 'packed food', 'fruit', 'vegetable', 'vegetable']\n",
        "fruits = ?\n",
        "vegetables = ?\n",
        "packed_foods = ?"
      ],
      "metadata": {
        "id": "jd7_lWhdTYOm"
      },
      "execution_count": null,
      "outputs": []
    },
    {
      "cell_type": "markdown",
      "source": [
        "ACTIVITY 4: GROCERY SHOPPING AGAIN!\n",
        "\n",
        "This time there are two types of fruits in the list - 'apple' and 'banana'\n",
        "And three type vegetables - 'potato', 'onion', 'carrot'"
      ],
      "metadata": {
        "id": "1PtBolC9UuCl"
      }
    },
    {
      "cell_type": "code",
      "source": [
        "grocery_list = ['apple', 'carrot', 'packed food', 'banana', 'apple', 'onion', 'packed food', 'potato', 'potato', 'onion', 'banana']\n",
        "fruits = ?\n",
        "vegetables = ?\n",
        "packed_foods = ?"
      ],
      "metadata": {
        "id": "uEXkJPhOVKam"
      },
      "execution_count": null,
      "outputs": []
    }
  ]
}